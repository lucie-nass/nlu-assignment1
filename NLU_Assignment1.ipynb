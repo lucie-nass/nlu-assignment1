{
  "nbformat": 4,
  "nbformat_minor": 0,
  "metadata": {
    "colab": {
      "name": "NLU_Assignment1.ipynb",
      "provenance": [],
      "collapsed_sections": []
    },
    "kernelspec": {
      "name": "python3",
      "display_name": "Python 3"
    },
    "language_info": {
      "name": "python"
    }
  },
  "cells": [
    {
      "cell_type": "code",
      "metadata": {
        "colab": {
          "base_uri": "https://localhost:8080/"
        },
        "id": "TSVX43pKMwfO",
        "outputId": "df7fa90c-3c69-468b-c7eb-f05a448fbcaa"
      },
      "source": [
        "#!pip install spacy\n",
        "!python -m spacy download en_core_web_sm"
      ],
      "execution_count": 1,
      "outputs": [
        {
          "output_type": "stream",
          "text": [
            "Requirement already satisfied: en_core_web_sm==2.2.5 from https://github.com/explosion/spacy-models/releases/download/en_core_web_sm-2.2.5/en_core_web_sm-2.2.5.tar.gz#egg=en_core_web_sm==2.2.5 in /usr/local/lib/python3.7/dist-packages (2.2.5)\n",
            "Requirement already satisfied: spacy>=2.2.2 in /usr/local/lib/python3.7/dist-packages (from en_core_web_sm==2.2.5) (2.2.4)\n",
            "Requirement already satisfied: tqdm<5.0.0,>=4.38.0 in /usr/local/lib/python3.7/dist-packages (from spacy>=2.2.2->en_core_web_sm==2.2.5) (4.41.1)\n",
            "Requirement already satisfied: catalogue<1.1.0,>=0.0.7 in /usr/local/lib/python3.7/dist-packages (from spacy>=2.2.2->en_core_web_sm==2.2.5) (1.0.0)\n",
            "Requirement already satisfied: plac<1.2.0,>=0.9.6 in /usr/local/lib/python3.7/dist-packages (from spacy>=2.2.2->en_core_web_sm==2.2.5) (1.1.3)\n",
            "Requirement already satisfied: thinc==7.4.0 in /usr/local/lib/python3.7/dist-packages (from spacy>=2.2.2->en_core_web_sm==2.2.5) (7.4.0)\n",
            "Requirement already satisfied: numpy>=1.15.0 in /usr/local/lib/python3.7/dist-packages (from spacy>=2.2.2->en_core_web_sm==2.2.5) (1.19.5)\n",
            "Requirement already satisfied: blis<0.5.0,>=0.4.0 in /usr/local/lib/python3.7/dist-packages (from spacy>=2.2.2->en_core_web_sm==2.2.5) (0.4.1)\n",
            "Requirement already satisfied: srsly<1.1.0,>=1.0.2 in /usr/local/lib/python3.7/dist-packages (from spacy>=2.2.2->en_core_web_sm==2.2.5) (1.0.5)\n",
            "Requirement already satisfied: preshed<3.1.0,>=3.0.2 in /usr/local/lib/python3.7/dist-packages (from spacy>=2.2.2->en_core_web_sm==2.2.5) (3.0.5)\n",
            "Requirement already satisfied: wasabi<1.1.0,>=0.4.0 in /usr/local/lib/python3.7/dist-packages (from spacy>=2.2.2->en_core_web_sm==2.2.5) (0.8.2)\n",
            "Requirement already satisfied: murmurhash<1.1.0,>=0.28.0 in /usr/local/lib/python3.7/dist-packages (from spacy>=2.2.2->en_core_web_sm==2.2.5) (1.0.5)\n",
            "Requirement already satisfied: cymem<2.1.0,>=2.0.2 in /usr/local/lib/python3.7/dist-packages (from spacy>=2.2.2->en_core_web_sm==2.2.5) (2.0.5)\n",
            "Requirement already satisfied: setuptools in /usr/local/lib/python3.7/dist-packages (from spacy>=2.2.2->en_core_web_sm==2.2.5) (54.2.0)\n",
            "Requirement already satisfied: requests<3.0.0,>=2.13.0 in /usr/local/lib/python3.7/dist-packages (from spacy>=2.2.2->en_core_web_sm==2.2.5) (2.23.0)\n",
            "Requirement already satisfied: importlib-metadata>=0.20; python_version < \"3.8\" in /usr/local/lib/python3.7/dist-packages (from catalogue<1.1.0,>=0.0.7->spacy>=2.2.2->en_core_web_sm==2.2.5) (3.10.1)\n",
            "Requirement already satisfied: certifi>=2017.4.17 in /usr/local/lib/python3.7/dist-packages (from requests<3.0.0,>=2.13.0->spacy>=2.2.2->en_core_web_sm==2.2.5) (2020.12.5)\n",
            "Requirement already satisfied: idna<3,>=2.5 in /usr/local/lib/python3.7/dist-packages (from requests<3.0.0,>=2.13.0->spacy>=2.2.2->en_core_web_sm==2.2.5) (2.10)\n",
            "Requirement already satisfied: urllib3!=1.25.0,!=1.25.1,<1.26,>=1.21.1 in /usr/local/lib/python3.7/dist-packages (from requests<3.0.0,>=2.13.0->spacy>=2.2.2->en_core_web_sm==2.2.5) (1.24.3)\n",
            "Requirement already satisfied: chardet<4,>=3.0.2 in /usr/local/lib/python3.7/dist-packages (from requests<3.0.0,>=2.13.0->spacy>=2.2.2->en_core_web_sm==2.2.5) (3.0.4)\n",
            "Requirement already satisfied: zipp>=0.5 in /usr/local/lib/python3.7/dist-packages (from importlib-metadata>=0.20; python_version < \"3.8\"->catalogue<1.1.0,>=0.0.7->spacy>=2.2.2->en_core_web_sm==2.2.5) (3.4.1)\n",
            "Requirement already satisfied: typing-extensions>=3.6.4; python_version < \"3.8\" in /usr/local/lib/python3.7/dist-packages (from importlib-metadata>=0.20; python_version < \"3.8\"->catalogue<1.1.0,>=0.0.7->spacy>=2.2.2->en_core_web_sm==2.2.5) (3.7.4.3)\n",
            "\u001b[38;5;2m✔ Download and installation successful\u001b[0m\n",
            "You can now load the model via spacy.load('en_core_web_sm')\n"
          ],
          "name": "stdout"
        }
      ]
    },
    {
      "cell_type": "code",
      "metadata": {
        "id": "-DmRQCofOm40"
      },
      "source": [
        "import spacy\n",
        "spacy_en = spacy.load('en')"
      ],
      "execution_count": 2,
      "outputs": []
    },
    {
      "cell_type": "markdown",
      "metadata": {
        "id": "BCkppIzJPy1w"
      },
      "source": [
        "# 1: Extract a path of dependency relations from the ROOT to a token\n",
        "\n"
      ]
    },
    {
      "cell_type": "code",
      "metadata": {
        "id": "YKp9HD1bP7Ok"
      },
      "source": [
        "def get_dep_relations(sent):\n",
        "  #Turn it into a Doc\n",
        "  doc = spacy_en(sent)\n",
        "\n",
        "  paths = {}\n",
        "  #Look at each token\n",
        "  for tok in doc:\n",
        "    key = tok.text\n",
        "    path = [tok.text+\" (\"+tok.dep_+\")\"]\n",
        "    while True:\n",
        "      if(tok.dep_==\"ROOT\"):\n",
        "        break\n",
        "      tok = tok.head\n",
        "      path.append(tok.text+\" (\"+tok.dep_+\")\")\n",
        "    path.reverse()\n",
        "    paths[key] = path\n",
        "  return paths"
      ],
      "execution_count": 8,
      "outputs": []
    },
    {
      "cell_type": "markdown",
      "metadata": {
        "id": "pMXyp6cqkVcI"
      },
      "source": [
        "# 2: Extract subtree of a dependent given a token"
      ]
    },
    {
      "cell_type": "code",
      "metadata": {
        "id": "4DkisxiDkckW"
      },
      "source": [
        "def get_subtrees(sent):\n",
        "  #Turn it into a Doc\n",
        "  doc = spacy_en(sent)\n",
        "\n",
        "  subtrees = {}\n",
        "  #Look at each token\n",
        "  for tok in doc:\n",
        "    #stree = list(tok.subtree)\n",
        "    #subtrees.append(stree)\n",
        "    subtrees[tok.text] = list(tok.subtree)\n",
        "  return subtrees"
      ],
      "execution_count": 4,
      "outputs": []
    },
    {
      "cell_type": "markdown",
      "metadata": {
        "id": "jb06MgIkbp8h"
      },
      "source": [
        "# 3: Check if a given list of tokens (segment of a sentence) forms a subtree"
      ]
    },
    {
      "cell_type": "code",
      "metadata": {
        "id": "R7-k6NhkboHg"
      },
      "source": [
        "#Inputs are: the sentence (string) and the words/tokens (list of strings)\n",
        "def is_subtree(sent, list_words):\n",
        "  #Turn it into a Doc\n",
        "  doc = spacy_en(sent)\n",
        "  nb_words = len(list_words)\n",
        "\n",
        "  #Look at each token\n",
        "  for tok in doc:\n",
        "    #If the token isn't part of the list given \n",
        "    #or if the size of the subtree isn't exactly the size of our list of words, \n",
        "    #go to the next token\n",
        "    if not(tok.text in list_words) or len(list(tok.subtree)) != nb_words:\n",
        "      continue\n",
        "\n",
        "    #Else, check if the subtree contains all of our words, once and only once\n",
        "    temp_list = list_words.copy()\n",
        "    for t in tok.subtree:\n",
        "      if t.text in temp_list:\n",
        "        #Remove the word from the list so it can't be matched anymore\n",
        "        temp_list.remove(t.text)\n",
        "      else:\n",
        "        break\n",
        "      if len(temp_list)==0:\n",
        "        return True\n",
        "  return False\n"
      ],
      "execution_count": 5,
      "outputs": []
    },
    {
      "cell_type": "markdown",
      "metadata": {
        "id": "dxq50QGKjBlP"
      },
      "source": [
        "# 4: Identify head of a span, given its tokens"
      ]
    },
    {
      "cell_type": "code",
      "metadata": {
        "id": "SdC_WwZrjGkl"
      },
      "source": [
        "def find_head_in_span(list_tok):\n",
        "  #Merge the list and turn it into a Doc\n",
        "  doc = spacy_en(' '.join(list_tok))\n",
        "  #Get a Span out of it\n",
        "  span = doc[:]\n",
        "  #Return the head\n",
        "  return span.root"
      ],
      "execution_count": 6,
      "outputs": []
    },
    {
      "cell_type": "markdown",
      "metadata": {
        "id": "d4osw8EkvJ15"
      },
      "source": [
        "# 5: Extract sentence subject, direct object and indirect object spans"
      ]
    },
    {
      "cell_type": "code",
      "metadata": {
        "id": "c1XfUfjKvJI-"
      },
      "source": [
        "def get_subj_dirobj_indobj(sent):\n",
        "  #Turn it into a Doc\n",
        "  doc = spacy_en(sent)\n",
        "  subj_dep = [\"csubj\", \"csubjpass\", \"nsubj\", \"nsubjpass\"]\n",
        "\n",
        "  result = {\n",
        "    \"Subject\": [],\n",
        "    \"Direct object\": [],\n",
        "    \"Indirect object\": []\n",
        "  }\n",
        "\n",
        "  for tok in doc:\n",
        "    #Look at dependency label of the token\n",
        "    #If it is one that we want, get its span (see subtree limits) and add it to the correct list\n",
        "    #Subject: csubj, csubjpass, nsubj, nsubjpass\n",
        "    #Direct object: dobj\n",
        "    #Indirect object: dative\n",
        "    if tok.dep_==\"dobj\":\n",
        "      span = doc[tok.i-tok.n_lefts:tok.i+tok.n_rights+1]\n",
        "      result[\"Direct object\"].append(span)\n",
        "    elif tok.dep_==\"dative\":\n",
        "      span = doc[tok.i-tok.n_lefts:tok.i+tok.n_rights+1]\n",
        "      result[\"Indirect object\"].append(span)\n",
        "    elif tok.dep_ in subj_dep:\n",
        "      span = doc[tok.i-tok.n_lefts:tok.i+tok.n_rights+1]\n",
        "      result[\"Subject\"].append(span)\n",
        "  return result"
      ],
      "execution_count": 7,
      "outputs": []
    }
  ]
}